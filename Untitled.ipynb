{
 "cells": [
  {
   "cell_type": "code",
   "execution_count": 3,
   "metadata": {},
   "outputs": [],
   "source": [
    "import pandas as pd"
   ]
  },
  {
   "cell_type": "code",
   "execution_count": 98,
   "metadata": {},
   "outputs": [
    {
     "data": {
      "text/plain": [
       "'https://cdn.myanimelist.net/images/anime/12/35893.jpg'"
      ]
     },
     "execution_count": 98,
     "metadata": {},
     "output_type": "execute_result"
    }
   ],
   "source": [
    "df = pd.read_csv('anime_filtered.csv')\n"
   ]
  },
  {
   "cell_type": "code",
   "execution_count": 101,
   "metadata": {},
   "outputs": [],
   "source": [
    "#tr = df[df['title_english'][0] != '']\n",
    "#tr.iloc[0]['title_english']\n",
    "#tr.iloc[0]['title_english']"
   ]
  },
  {
   "cell_type": "code",
   "execution_count": 102,
   "metadata": {},
   "outputs": [],
   "source": [
    "#df.describe()"
   ]
  },
  {
   "cell_type": "code",
   "execution_count": 56,
   "metadata": {},
   "outputs": [
    {
     "data": {
      "text/plain": [
       "6586"
      ]
     },
     "execution_count": 56,
     "metadata": {},
     "output_type": "execute_result"
    }
   ],
   "source": [
    "tr.iloc[5]['anime_id']"
   ]
  },
  {
   "cell_type": "code",
   "execution_count": 103,
   "metadata": {},
   "outputs": [],
   "source": [
    "#tr['title_english']"
   ]
  },
  {
   "cell_type": "code",
   "execution_count": 91,
   "metadata": {},
   "outputs": [],
   "source": [
    "data = df[pd.notnull(df['title_english'])]"
   ]
  },
  {
   "cell_type": "code",
   "execution_count": 112,
   "metadata": {},
   "outputs": [
    {
     "name": "stdout",
     "output_type": "stream",
     "text": [
      "<class 'pandas.core.frame.DataFrame'>\n",
      "Int64Index: 416 entries, 3 to 14146\n",
      "Data columns (total 31 columns):\n",
      "anime_id          416 non-null int64\n",
      "title             416 non-null object\n",
      "title_english     416 non-null object\n",
      "title_japanese    416 non-null object\n",
      "title_synonyms    328 non-null object\n",
      "image_url         416 non-null object\n",
      "type              416 non-null object\n",
      "source            416 non-null object\n",
      "episodes          416 non-null int64\n",
      "status            416 non-null object\n",
      "airing            416 non-null bool\n",
      "aired_string      416 non-null object\n",
      "aired             416 non-null object\n",
      "duration          416 non-null object\n",
      "rating            416 non-null object\n",
      "score             416 non-null float64\n",
      "scored_by         416 non-null int64\n",
      "rank              416 non-null float64\n",
      "popularity        416 non-null int64\n",
      "members           416 non-null int64\n",
      "favorites         416 non-null int64\n",
      "background        184 non-null object\n",
      "premiered         287 non-null object\n",
      "broadcast         287 non-null object\n",
      "related           416 non-null object\n",
      "producer          394 non-null object\n",
      "licensor          354 non-null object\n",
      "studio            412 non-null object\n",
      "genre             416 non-null object\n",
      "opening_theme     416 non-null object\n",
      "ending_theme      416 non-null object\n",
      "dtypes: bool(1), float64(2), int64(6), object(22)\n",
      "memory usage: 101.2+ KB\n"
     ]
    }
   ],
   "source": [
    "#data.info()\n",
    "kek = df[df['score'] > 8]\n",
    "kek = kek[pd.notnull(kek['title_english'])]\n",
    "kek.to_csv('anime_greater_8.csv')\n",
    "kek.info()"
   ]
  },
  {
   "cell_type": "code",
   "execution_count": 93,
   "metadata": {},
   "outputs": [],
   "source": [
    "data.to_csv('anime.csv')"
   ]
  },
  {
   "cell_type": "code",
   "execution_count": null,
   "metadata": {},
   "outputs": [],
   "source": []
  }
 ],
 "metadata": {
  "kernelspec": {
   "display_name": "Python 3",
   "language": "python",
   "name": "python3"
  },
  "language_info": {
   "codemirror_mode": {
    "name": "ipython",
    "version": 3
   },
   "file_extension": ".py",
   "mimetype": "text/x-python",
   "name": "python",
   "nbconvert_exporter": "python",
   "pygments_lexer": "ipython3",
   "version": "3.7.3"
  }
 },
 "nbformat": 4,
 "nbformat_minor": 2
}
