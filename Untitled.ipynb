{
 "cells": [
  {
   "cell_type": "code",
   "execution_count": 3,
   "metadata": {},
   "outputs": [],
   "source": [
    "import pandas as pd"
   ]
  },
  {
   "cell_type": "code",
   "execution_count": 98,
   "metadata": {},
   "outputs": [
    {
     "data": {
      "text/plain": [
       "'https://cdn.myanimelist.net/images/anime/12/35893.jpg'"
      ]
     },
     "execution_count": 98,
     "metadata": {},
     "output_type": "execute_result"
    }
   ],
   "source": [
    "df = pd.read_csv('anime_filtered.csv')\n",
    "temp = df['image_url'][0]\n",
    "temp_arr = temp.split('/')\n",
    "temp = \"https://cdn.myanimelist.net\"\n",
    "for i in range(3, 7):\n",
    "    temp += '/'\n",
    "    temp += temp_arr[i]\n",
    "temp"
   ]
  },
  {
   "cell_type": "code",
   "execution_count": 74,
   "metadata": {},
   "outputs": [
    {
     "ename": "KeyError",
     "evalue": "True",
     "output_type": "error",
     "traceback": [
      "\u001b[0;31m---------------------------------------------------------------------------\u001b[0m",
      "\u001b[0;31mKeyError\u001b[0m                                  Traceback (most recent call last)",
      "\u001b[0;32m~/anaconda3/lib/python3.7/site-packages/pandas/core/indexes/base.py\u001b[0m in \u001b[0;36mget_loc\u001b[0;34m(self, key, method, tolerance)\u001b[0m\n\u001b[1;32m   2656\u001b[0m             \u001b[0;32mtry\u001b[0m\u001b[0;34m:\u001b[0m\u001b[0;34m\u001b[0m\u001b[0;34m\u001b[0m\u001b[0m\n\u001b[0;32m-> 2657\u001b[0;31m                 \u001b[0;32mreturn\u001b[0m \u001b[0mself\u001b[0m\u001b[0;34m.\u001b[0m\u001b[0m_engine\u001b[0m\u001b[0;34m.\u001b[0m\u001b[0mget_loc\u001b[0m\u001b[0;34m(\u001b[0m\u001b[0mkey\u001b[0m\u001b[0;34m)\u001b[0m\u001b[0;34m\u001b[0m\u001b[0;34m\u001b[0m\u001b[0m\n\u001b[0m\u001b[1;32m   2658\u001b[0m             \u001b[0;32mexcept\u001b[0m \u001b[0mKeyError\u001b[0m\u001b[0;34m:\u001b[0m\u001b[0;34m\u001b[0m\u001b[0;34m\u001b[0m\u001b[0m\n",
      "\u001b[0;32mpandas/_libs/index.pyx\u001b[0m in \u001b[0;36mpandas._libs.index.IndexEngine.get_loc\u001b[0;34m()\u001b[0m\n",
      "\u001b[0;32mpandas/_libs/index.pyx\u001b[0m in \u001b[0;36mpandas._libs.index.IndexEngine.get_loc\u001b[0;34m()\u001b[0m\n",
      "\u001b[0;32mpandas/_libs/hashtable_class_helper.pxi\u001b[0m in \u001b[0;36mpandas._libs.hashtable.PyObjectHashTable.get_item\u001b[0;34m()\u001b[0m\n",
      "\u001b[0;32mpandas/_libs/hashtable_class_helper.pxi\u001b[0m in \u001b[0;36mpandas._libs.hashtable.PyObjectHashTable.get_item\u001b[0;34m()\u001b[0m\n",
      "\u001b[0;31mKeyError\u001b[0m: True",
      "\nDuring handling of the above exception, another exception occurred:\n",
      "\u001b[0;31mKeyError\u001b[0m                                  Traceback (most recent call last)",
      "\u001b[0;32m<ipython-input-74-6b9e0405f169>\u001b[0m in \u001b[0;36m<module>\u001b[0;34m\u001b[0m\n\u001b[0;32m----> 1\u001b[0;31m \u001b[0mtr\u001b[0m \u001b[0;34m=\u001b[0m \u001b[0mdf\u001b[0m\u001b[0;34m[\u001b[0m\u001b[0mdf\u001b[0m\u001b[0;34m[\u001b[0m\u001b[0;34m'title_english'\u001b[0m\u001b[0;34m]\u001b[0m\u001b[0;34m[\u001b[0m\u001b[0;36m0\u001b[0m\u001b[0;34m]\u001b[0m \u001b[0;34m!=\u001b[0m \u001b[0;34m''\u001b[0m\u001b[0;34m]\u001b[0m\u001b[0;34m\u001b[0m\u001b[0;34m\u001b[0m\u001b[0m\n\u001b[0m\u001b[1;32m      2\u001b[0m \u001b[0mtr\u001b[0m\u001b[0;34m.\u001b[0m\u001b[0miloc\u001b[0m\u001b[0;34m[\u001b[0m\u001b[0;36m0\u001b[0m\u001b[0;34m]\u001b[0m\u001b[0;34m[\u001b[0m\u001b[0;34m'title_english'\u001b[0m\u001b[0;34m]\u001b[0m\u001b[0;34m\u001b[0m\u001b[0;34m\u001b[0m\u001b[0m\n\u001b[1;32m      3\u001b[0m \u001b[0;31m#tr.iloc[0]['title_english']\u001b[0m\u001b[0;34m\u001b[0m\u001b[0;34m\u001b[0m\u001b[0;34m\u001b[0m\u001b[0m\n",
      "\u001b[0;32m~/anaconda3/lib/python3.7/site-packages/pandas/core/frame.py\u001b[0m in \u001b[0;36m__getitem__\u001b[0;34m(self, key)\u001b[0m\n\u001b[1;32m   2925\u001b[0m             \u001b[0;32mif\u001b[0m \u001b[0mself\u001b[0m\u001b[0;34m.\u001b[0m\u001b[0mcolumns\u001b[0m\u001b[0;34m.\u001b[0m\u001b[0mnlevels\u001b[0m \u001b[0;34m>\u001b[0m \u001b[0;36m1\u001b[0m\u001b[0;34m:\u001b[0m\u001b[0;34m\u001b[0m\u001b[0;34m\u001b[0m\u001b[0m\n\u001b[1;32m   2926\u001b[0m                 \u001b[0;32mreturn\u001b[0m \u001b[0mself\u001b[0m\u001b[0;34m.\u001b[0m\u001b[0m_getitem_multilevel\u001b[0m\u001b[0;34m(\u001b[0m\u001b[0mkey\u001b[0m\u001b[0;34m)\u001b[0m\u001b[0;34m\u001b[0m\u001b[0;34m\u001b[0m\u001b[0m\n\u001b[0;32m-> 2927\u001b[0;31m             \u001b[0mindexer\u001b[0m \u001b[0;34m=\u001b[0m \u001b[0mself\u001b[0m\u001b[0;34m.\u001b[0m\u001b[0mcolumns\u001b[0m\u001b[0;34m.\u001b[0m\u001b[0mget_loc\u001b[0m\u001b[0;34m(\u001b[0m\u001b[0mkey\u001b[0m\u001b[0;34m)\u001b[0m\u001b[0;34m\u001b[0m\u001b[0;34m\u001b[0m\u001b[0m\n\u001b[0m\u001b[1;32m   2928\u001b[0m             \u001b[0;32mif\u001b[0m \u001b[0mis_integer\u001b[0m\u001b[0;34m(\u001b[0m\u001b[0mindexer\u001b[0m\u001b[0;34m)\u001b[0m\u001b[0;34m:\u001b[0m\u001b[0;34m\u001b[0m\u001b[0;34m\u001b[0m\u001b[0m\n\u001b[1;32m   2929\u001b[0m                 \u001b[0mindexer\u001b[0m \u001b[0;34m=\u001b[0m \u001b[0;34m[\u001b[0m\u001b[0mindexer\u001b[0m\u001b[0;34m]\u001b[0m\u001b[0;34m\u001b[0m\u001b[0;34m\u001b[0m\u001b[0m\n",
      "\u001b[0;32m~/anaconda3/lib/python3.7/site-packages/pandas/core/indexes/base.py\u001b[0m in \u001b[0;36mget_loc\u001b[0;34m(self, key, method, tolerance)\u001b[0m\n\u001b[1;32m   2657\u001b[0m                 \u001b[0;32mreturn\u001b[0m \u001b[0mself\u001b[0m\u001b[0;34m.\u001b[0m\u001b[0m_engine\u001b[0m\u001b[0;34m.\u001b[0m\u001b[0mget_loc\u001b[0m\u001b[0;34m(\u001b[0m\u001b[0mkey\u001b[0m\u001b[0;34m)\u001b[0m\u001b[0;34m\u001b[0m\u001b[0;34m\u001b[0m\u001b[0m\n\u001b[1;32m   2658\u001b[0m             \u001b[0;32mexcept\u001b[0m \u001b[0mKeyError\u001b[0m\u001b[0;34m:\u001b[0m\u001b[0;34m\u001b[0m\u001b[0;34m\u001b[0m\u001b[0m\n\u001b[0;32m-> 2659\u001b[0;31m                 \u001b[0;32mreturn\u001b[0m \u001b[0mself\u001b[0m\u001b[0;34m.\u001b[0m\u001b[0m_engine\u001b[0m\u001b[0;34m.\u001b[0m\u001b[0mget_loc\u001b[0m\u001b[0;34m(\u001b[0m\u001b[0mself\u001b[0m\u001b[0;34m.\u001b[0m\u001b[0m_maybe_cast_indexer\u001b[0m\u001b[0;34m(\u001b[0m\u001b[0mkey\u001b[0m\u001b[0;34m)\u001b[0m\u001b[0;34m)\u001b[0m\u001b[0;34m\u001b[0m\u001b[0;34m\u001b[0m\u001b[0m\n\u001b[0m\u001b[1;32m   2660\u001b[0m         \u001b[0mindexer\u001b[0m \u001b[0;34m=\u001b[0m \u001b[0mself\u001b[0m\u001b[0;34m.\u001b[0m\u001b[0mget_indexer\u001b[0m\u001b[0;34m(\u001b[0m\u001b[0;34m[\u001b[0m\u001b[0mkey\u001b[0m\u001b[0;34m]\u001b[0m\u001b[0;34m,\u001b[0m \u001b[0mmethod\u001b[0m\u001b[0;34m=\u001b[0m\u001b[0mmethod\u001b[0m\u001b[0;34m,\u001b[0m \u001b[0mtolerance\u001b[0m\u001b[0;34m=\u001b[0m\u001b[0mtolerance\u001b[0m\u001b[0;34m)\u001b[0m\u001b[0;34m\u001b[0m\u001b[0;34m\u001b[0m\u001b[0m\n\u001b[1;32m   2661\u001b[0m         \u001b[0;32mif\u001b[0m \u001b[0mindexer\u001b[0m\u001b[0;34m.\u001b[0m\u001b[0mndim\u001b[0m \u001b[0;34m>\u001b[0m \u001b[0;36m1\u001b[0m \u001b[0;32mor\u001b[0m \u001b[0mindexer\u001b[0m\u001b[0;34m.\u001b[0m\u001b[0msize\u001b[0m \u001b[0;34m>\u001b[0m \u001b[0;36m1\u001b[0m\u001b[0;34m:\u001b[0m\u001b[0;34m\u001b[0m\u001b[0;34m\u001b[0m\u001b[0m\n",
      "\u001b[0;32mpandas/_libs/index.pyx\u001b[0m in \u001b[0;36mpandas._libs.index.IndexEngine.get_loc\u001b[0;34m()\u001b[0m\n",
      "\u001b[0;32mpandas/_libs/index.pyx\u001b[0m in \u001b[0;36mpandas._libs.index.IndexEngine.get_loc\u001b[0;34m()\u001b[0m\n",
      "\u001b[0;32mpandas/_libs/hashtable_class_helper.pxi\u001b[0m in \u001b[0;36mpandas._libs.hashtable.PyObjectHashTable.get_item\u001b[0;34m()\u001b[0m\n",
      "\u001b[0;32mpandas/_libs/hashtable_class_helper.pxi\u001b[0m in \u001b[0;36mpandas._libs.hashtable.PyObjectHashTable.get_item\u001b[0;34m()\u001b[0m\n",
      "\u001b[0;31mKeyError\u001b[0m: True"
     ]
    }
   ],
   "source": [
    "tr = df[df['title_english'][0] != '']\n",
    "tr.iloc[0]['title_english']\n",
    "#tr.iloc[0]['title_english']"
   ]
  },
  {
   "cell_type": "code",
   "execution_count": 40,
   "metadata": {},
   "outputs": [
    {
     "data": {
      "text/html": [
       "<div>\n",
       "<style scoped>\n",
       "    .dataframe tbody tr th:only-of-type {\n",
       "        vertical-align: middle;\n",
       "    }\n",
       "\n",
       "    .dataframe tbody tr th {\n",
       "        vertical-align: top;\n",
       "    }\n",
       "\n",
       "    .dataframe thead th {\n",
       "        text-align: right;\n",
       "    }\n",
       "</style>\n",
       "<table border=\"1\" class=\"dataframe\">\n",
       "  <thead>\n",
       "    <tr style=\"text-align: right;\">\n",
       "      <th></th>\n",
       "      <th>anime_id</th>\n",
       "      <th>episodes</th>\n",
       "      <th>score</th>\n",
       "      <th>scored_by</th>\n",
       "      <th>rank</th>\n",
       "      <th>popularity</th>\n",
       "      <th>members</th>\n",
       "      <th>favorites</th>\n",
       "    </tr>\n",
       "  </thead>\n",
       "  <tbody>\n",
       "    <tr>\n",
       "      <th>count</th>\n",
       "      <td>14474.000000</td>\n",
       "      <td>14474.000000</td>\n",
       "      <td>14474.000000</td>\n",
       "      <td>1.447400e+04</td>\n",
       "      <td>12901.000000</td>\n",
       "      <td>14474.000000</td>\n",
       "      <td>1.447400e+04</td>\n",
       "      <td>14474.000000</td>\n",
       "    </tr>\n",
       "    <tr>\n",
       "      <th>mean</th>\n",
       "      <td>17371.948183</td>\n",
       "      <td>11.310971</td>\n",
       "      <td>6.144179</td>\n",
       "      <td>1.146319e+04</td>\n",
       "      <td>6439.625068</td>\n",
       "      <td>7220.277256</td>\n",
       "      <td>2.297275e+04</td>\n",
       "      <td>311.735595</td>\n",
       "    </tr>\n",
       "    <tr>\n",
       "      <th>std</th>\n",
       "      <td>13163.266015</td>\n",
       "      <td>43.449161</td>\n",
       "      <td>1.460617</td>\n",
       "      <td>4.311072e+04</td>\n",
       "      <td>3719.462602</td>\n",
       "      <td>4168.959000</td>\n",
       "      <td>7.499075e+04</td>\n",
       "      <td>2615.910510</td>\n",
       "    </tr>\n",
       "    <tr>\n",
       "      <th>min</th>\n",
       "      <td>1.000000</td>\n",
       "      <td>0.000000</td>\n",
       "      <td>0.000000</td>\n",
       "      <td>0.000000e+00</td>\n",
       "      <td>0.000000</td>\n",
       "      <td>0.000000</td>\n",
       "      <td>0.000000e+00</td>\n",
       "      <td>0.000000</td>\n",
       "    </tr>\n",
       "    <tr>\n",
       "      <th>25%</th>\n",
       "      <td>4387.500000</td>\n",
       "      <td>1.000000</td>\n",
       "      <td>5.550000</td>\n",
       "      <td>4.600000e+01</td>\n",
       "      <td>3218.000000</td>\n",
       "      <td>3613.250000</td>\n",
       "      <td>2.450000e+02</td>\n",
       "      <td>0.000000</td>\n",
       "    </tr>\n",
       "    <tr>\n",
       "      <th>50%</th>\n",
       "      <td>15128.000000</td>\n",
       "      <td>1.000000</td>\n",
       "      <td>6.370000</td>\n",
       "      <td>5.010000e+02</td>\n",
       "      <td>6442.000000</td>\n",
       "      <td>7225.500000</td>\n",
       "      <td>1.682500e+03</td>\n",
       "      <td>2.000000</td>\n",
       "    </tr>\n",
       "    <tr>\n",
       "      <th>75%</th>\n",
       "      <td>31142.000000</td>\n",
       "      <td>12.000000</td>\n",
       "      <td>7.060000</td>\n",
       "      <td>3.947250e+03</td>\n",
       "      <td>9664.000000</td>\n",
       "      <td>10826.750000</td>\n",
       "      <td>1.038050e+04</td>\n",
       "      <td>23.000000</td>\n",
       "    </tr>\n",
       "    <tr>\n",
       "      <th>max</th>\n",
       "      <td>37916.000000</td>\n",
       "      <td>1818.000000</td>\n",
       "      <td>10.000000</td>\n",
       "      <td>1.009477e+06</td>\n",
       "      <td>12919.000000</td>\n",
       "      <td>14487.000000</td>\n",
       "      <td>1.456378e+06</td>\n",
       "      <td>106895.000000</td>\n",
       "    </tr>\n",
       "  </tbody>\n",
       "</table>\n",
       "</div>"
      ],
      "text/plain": [
       "           anime_id      episodes         score     scored_by          rank  \\\n",
       "count  14474.000000  14474.000000  14474.000000  1.447400e+04  12901.000000   \n",
       "mean   17371.948183     11.310971      6.144179  1.146319e+04   6439.625068   \n",
       "std    13163.266015     43.449161      1.460617  4.311072e+04   3719.462602   \n",
       "min        1.000000      0.000000      0.000000  0.000000e+00      0.000000   \n",
       "25%     4387.500000      1.000000      5.550000  4.600000e+01   3218.000000   \n",
       "50%    15128.000000      1.000000      6.370000  5.010000e+02   6442.000000   \n",
       "75%    31142.000000     12.000000      7.060000  3.947250e+03   9664.000000   \n",
       "max    37916.000000   1818.000000     10.000000  1.009477e+06  12919.000000   \n",
       "\n",
       "         popularity       members      favorites  \n",
       "count  14474.000000  1.447400e+04   14474.000000  \n",
       "mean    7220.277256  2.297275e+04     311.735595  \n",
       "std     4168.959000  7.499075e+04    2615.910510  \n",
       "min        0.000000  0.000000e+00       0.000000  \n",
       "25%     3613.250000  2.450000e+02       0.000000  \n",
       "50%     7225.500000  1.682500e+03       2.000000  \n",
       "75%    10826.750000  1.038050e+04      23.000000  \n",
       "max    14487.000000  1.456378e+06  106895.000000  "
      ]
     },
     "execution_count": 40,
     "metadata": {},
     "output_type": "execute_result"
    }
   ],
   "source": [
    "df.describe()"
   ]
  },
  {
   "cell_type": "code",
   "execution_count": 56,
   "metadata": {},
   "outputs": [
    {
     "data": {
      "text/plain": [
       "6586"
      ]
     },
     "execution_count": 56,
     "metadata": {},
     "output_type": "execute_result"
    }
   ],
   "source": [
    "tr.iloc[5]['anime_id']"
   ]
  },
  {
   "cell_type": "code",
   "execution_count": 83,
   "metadata": {},
   "outputs": [
    {
     "data": {
      "text/plain": [
       "0                                Inu X Boku Secret Service\n",
       "1                                    My Bride is a Mermaid\n",
       "2                                       Shugo Chara!! Doki\n",
       "3                                            Princess Tutu\n",
       "4                                                 Bakuman.\n",
       "5                                                      NaN\n",
       "6                               Ultramaniac - Magical Girl\n",
       "7                             Shakugan no Shana: Season II\n",
       "8                                                      NaN\n",
       "9                              Ouran High School Host Club\n",
       "10                                       Junjo Romantica 2\n",
       "11                                              Maid Sama!\n",
       "12       Sekai Ichi Hatsukoi - World&#039;s Greatest Fi...\n",
       "13                                       My Little Monster\n",
       "14                                                  Bleach\n",
       "15                                                 Chobits\n",
       "16                          Kimi ni Todoke: From Me to You\n",
       "17                                       Naruto: Shippuden\n",
       "18                                                 Ranma ½\n",
       "19                                               Toradora!\n",
       "20                                                Bakuman.\n",
       "21                                            Gakuen Alice\n",
       "22                                              Skip Beat!\n",
       "23                                                     NaN\n",
       "24                                          Shonen Onmyoji\n",
       "25                                             Chihayafuru\n",
       "26                                                 ItaKiss\n",
       "27                                               Beelzebub\n",
       "28                                                     NaN\n",
       "29                                              SKET Dance\n",
       "                               ...                        \n",
       "14444                                                  NaN\n",
       "14445                                                  NaN\n",
       "14446                                                  NaN\n",
       "14447                                                  NaN\n",
       "14448                                                  NaN\n",
       "14449                                                  NaN\n",
       "14450                                                  NaN\n",
       "14451    Mina&#039;s Village Says Yes! to Waste Management\n",
       "14452                                                  NaN\n",
       "14453                                                  NaN\n",
       "14454                                      Asunal Kanayama\n",
       "14455                                                  NaN\n",
       "14456                          The Ant and the Grasshopper\n",
       "14457                                                  NaN\n",
       "14458                                                  NaN\n",
       "14459                                                  NaN\n",
       "14460                                  Mr. Men Little Miss\n",
       "14461                                                  NaN\n",
       "14462                     Mashiro Witch - Midnight Marchen\n",
       "14463                                                  NaN\n",
       "14464                                                  NaN\n",
       "14465                                                  NaN\n",
       "14466                                                  NaN\n",
       "14467                                                  NaN\n",
       "14468                                                  NaN\n",
       "14469                                                  NaN\n",
       "14470                                                  NaN\n",
       "14471                                                  NaN\n",
       "14472                                                  NaN\n",
       "14473                                                  NaN\n",
       "Name: title_english, Length: 14474, dtype: object"
      ]
     },
     "execution_count": 83,
     "metadata": {},
     "output_type": "execute_result"
    }
   ],
   "source": [
    "tr['title_english']"
   ]
  },
  {
   "cell_type": "code",
   "execution_count": 91,
   "metadata": {},
   "outputs": [],
   "source": [
    "data = df[pd.notnull(df['title_english'])]"
   ]
  },
  {
   "cell_type": "code",
   "execution_count": 92,
   "metadata": {},
   "outputs": [
    {
     "name": "stdout",
     "output_type": "stream",
     "text": [
      "<class 'pandas.core.frame.DataFrame'>\n",
      "Int64Index: 5723 entries, 0 to 14462\n",
      "Data columns (total 31 columns):\n",
      "anime_id          5723 non-null int64\n",
      "title             5723 non-null object\n",
      "title_english     5723 non-null object\n",
      "title_japanese    5716 non-null object\n",
      "title_synonyms    3693 non-null object\n",
      "image_url         5720 non-null object\n",
      "type              5723 non-null object\n",
      "source            5723 non-null object\n",
      "episodes          5723 non-null int64\n",
      "status            5723 non-null object\n",
      "airing            5723 non-null bool\n",
      "aired_string      5723 non-null object\n",
      "aired             5723 non-null object\n",
      "duration          5723 non-null object\n",
      "rating            5723 non-null object\n",
      "score             5723 non-null float64\n",
      "scored_by         5723 non-null int64\n",
      "rank              5281 non-null float64\n",
      "popularity        5723 non-null int64\n",
      "members           5723 non-null int64\n",
      "favorites         5723 non-null int64\n",
      "background        727 non-null object\n",
      "premiered         2384 non-null object\n",
      "broadcast         2440 non-null object\n",
      "related           5723 non-null object\n",
      "producer          3793 non-null object\n",
      "licensor          2631 non-null object\n",
      "studio            3973 non-null object\n",
      "genre             5710 non-null object\n",
      "opening_theme     5723 non-null object\n",
      "ending_theme      5723 non-null object\n",
      "dtypes: bool(1), float64(2), int64(6), object(22)\n",
      "memory usage: 1.4+ MB\n"
     ]
    }
   ],
   "source": [
    "data.info()\n"
   ]
  },
  {
   "cell_type": "code",
   "execution_count": 93,
   "metadata": {},
   "outputs": [],
   "source": [
    "data.to_csv('anime.csv')"
   ]
  },
  {
   "cell_type": "code",
   "execution_count": null,
   "metadata": {},
   "outputs": [],
   "source": []
  }
 ],
 "metadata": {
  "kernelspec": {
   "display_name": "Python 3",
   "language": "python",
   "name": "python3"
  },
  "language_info": {
   "codemirror_mode": {
    "name": "ipython",
    "version": 3
   },
   "file_extension": ".py",
   "mimetype": "text/x-python",
   "name": "python",
   "nbconvert_exporter": "python",
   "pygments_lexer": "ipython3",
   "version": "3.7.3"
  }
 },
 "nbformat": 4,
 "nbformat_minor": 2
}
